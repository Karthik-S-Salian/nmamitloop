{
 "cells": [
  {
   "cell_type": "code",
   "execution_count": 1,
   "metadata": {},
   "outputs": [],
   "source": [
    "import json"
   ]
  },
  {
   "cell_type": "code",
   "execution_count": 2,
   "metadata": {},
   "outputs": [],
   "source": [
    "with open(\"./teachers.json\",\"r\") as fh:\n",
    "    data:list = json.loads(fh.read())"
   ]
  },
  {
   "cell_type": "code",
   "execution_count": null,
   "metadata": {},
   "outputs": [],
   "source": [
    "for d in data:\n",
    "    d.pop(\"geometry\")\n",
    "    d.pop(\"phone\")"
   ]
  },
  {
   "cell_type": "code",
   "execution_count": null,
   "metadata": {},
   "outputs": [],
   "source": [
    "with open(\"./teachers.json\",\"w\") as fh:\n",
    "    json.dump(data,fh,indent=4)"
   ]
  },
  {
   "cell_type": "markdown",
   "metadata": {},
   "source": [
    "## NEW"
   ]
  },
  {
   "cell_type": "code",
   "execution_count": 4,
   "metadata": {},
   "outputs": [],
   "source": [
    "import json\n",
    "\n",
    "with open(\"./places.json\",\"r\") as fh:\n",
    "    data:list[dict] = json.loads(fh.read())"
   ]
  },
  {
   "cell_type": "code",
   "execution_count": 5,
   "metadata": {},
   "outputs": [],
   "source": [
    "for i,place in enumerate(data):\n",
    "    place[\"lat\"] = place[\"geometry\"][\"location\"][\"lat\"]\n",
    "    place[\"lng\"] = place[\"geometry\"][\"location\"][\"lng\"]\n",
    "    place.pop(\"geometry\")\n"
   ]
  },
  {
   "cell_type": "code",
   "execution_count": 6,
   "metadata": {},
   "outputs": [],
   "source": [
    "import pandas as pd\n",
    "import numpy as np"
   ]
  },
  {
   "cell_type": "code",
   "execution_count": 7,
   "metadata": {},
   "outputs": [
    {
     "data": {
      "text/html": [
       "<div>\n",
       "<style scoped>\n",
       "    .dataframe tbody tr th:only-of-type {\n",
       "        vertical-align: middle;\n",
       "    }\n",
       "\n",
       "    .dataframe tbody tr th {\n",
       "        vertical-align: top;\n",
       "    }\n",
       "\n",
       "    .dataframe thead th {\n",
       "        text-align: right;\n",
       "    }\n",
       "</style>\n",
       "<table border=\"1\" class=\"dataframe\">\n",
       "  <thead>\n",
       "    <tr style=\"text-align: right;\">\n",
       "      <th></th>\n",
       "      <th>name</th>\n",
       "      <th>phone</th>\n",
       "      <th>note</th>\n",
       "      <th>inout</th>\n",
       "      <th>cat</th>\n",
       "      <th>imgUrl</th>\n",
       "      <th>lat</th>\n",
       "      <th>lng</th>\n",
       "      <th>rating</th>\n",
       "    </tr>\n",
       "  </thead>\n",
       "  <tbody>\n",
       "    <tr>\n",
       "      <th>25</th>\n",
       "      <td>Metallurgy Lab</td>\n",
       "      <td>0.0</td>\n",
       "      <td></td>\n",
       "      <td>in</td>\n",
       "      <td>lab</td>\n",
       "      <td>https://firebasestorage.googleapis.com/v0/b/ac...</td>\n",
       "      <td>13.182562</td>\n",
       "      <td>74.934814</td>\n",
       "      <td>NaN</td>\n",
       "    </tr>\n",
       "    <tr>\n",
       "      <th>3</th>\n",
       "      <td>Harshitha</td>\n",
       "      <td>0.0</td>\n",
       "      <td></td>\n",
       "      <td>out</td>\n",
       "      <td>food</td>\n",
       "      <td></td>\n",
       "      <td>13.183514</td>\n",
       "      <td>74.936490</td>\n",
       "      <td>NaN</td>\n",
       "    </tr>\n",
       "    <tr>\n",
       "      <th>63</th>\n",
       "      <td>Rohan's canteen &amp; shop</td>\n",
       "      <td>0.0</td>\n",
       "      <td></td>\n",
       "      <td>out</td>\n",
       "      <td>shop</td>\n",
       "      <td>https://firebasestorage.googleapis.com/v0/b/ac...</td>\n",
       "      <td>13.181731</td>\n",
       "      <td>74.934200</td>\n",
       "      <td>NaN</td>\n",
       "    </tr>\n",
       "    <tr>\n",
       "      <th>83</th>\n",
       "      <td>Auto stand</td>\n",
       "      <td>0.0</td>\n",
       "      <td></td>\n",
       "      <td>out</td>\n",
       "      <td>stop</td>\n",
       "      <td></td>\n",
       "      <td>13.184268</td>\n",
       "      <td>74.935180</td>\n",
       "      <td>NaN</td>\n",
       "    </tr>\n",
       "    <tr>\n",
       "      <th>15</th>\n",
       "      <td>S RAMANUJAN/RAM</td>\n",
       "      <td>0.0</td>\n",
       "      <td>MECH/EC</td>\n",
       "      <td>NA</td>\n",
       "      <td>block</td>\n",
       "      <td>https://firebasestorage.googleapis.com/v0/b/ac...</td>\n",
       "      <td>13.183011</td>\n",
       "      <td>74.933943</td>\n",
       "      <td>NaN</td>\n",
       "    </tr>\n",
       "  </tbody>\n",
       "</table>\n",
       "</div>"
      ],
      "text/plain": [
       "                      name  phone     note inout    cat  \\\n",
       "25          Metallurgy Lab    0.0             in    lab   \n",
       "3                Harshitha    0.0            out   food   \n",
       "63  Rohan's canteen & shop    0.0            out   shop   \n",
       "83              Auto stand    0.0            out   stop   \n",
       "15         S RAMANUJAN/RAM    0.0  MECH/EC    NA  block   \n",
       "\n",
       "                                               imgUrl        lat        lng  \\\n",
       "25  https://firebasestorage.googleapis.com/v0/b/ac...  13.182562  74.934814   \n",
       "3                                                      13.183514  74.936490   \n",
       "63  https://firebasestorage.googleapis.com/v0/b/ac...  13.181731  74.934200   \n",
       "83                                                     13.184268  74.935180   \n",
       "15  https://firebasestorage.googleapis.com/v0/b/ac...  13.183011  74.933943   \n",
       "\n",
       "    rating  \n",
       "25     NaN  \n",
       "3      NaN  \n",
       "63     NaN  \n",
       "83     NaN  \n",
       "15     NaN  "
      ]
     },
     "execution_count": 7,
     "metadata": {},
     "output_type": "execute_result"
    }
   ],
   "source": [
    "df = pd.DataFrame(data)\n",
    "df.sample(5)\n"
   ]
  },
  {
   "cell_type": "code",
   "execution_count": 8,
   "metadata": {},
   "outputs": [],
   "source": [
    "df.drop(\"rating\",axis = 1,inplace=True)"
   ]
  },
  {
   "cell_type": "code",
   "execution_count": 9,
   "metadata": {},
   "outputs": [
    {
     "data": {
      "text/html": [
       "<div>\n",
       "<style scoped>\n",
       "    .dataframe tbody tr th:only-of-type {\n",
       "        vertical-align: middle;\n",
       "    }\n",
       "\n",
       "    .dataframe tbody tr th {\n",
       "        vertical-align: top;\n",
       "    }\n",
       "\n",
       "    .dataframe thead th {\n",
       "        text-align: right;\n",
       "    }\n",
       "</style>\n",
       "<table border=\"1\" class=\"dataframe\">\n",
       "  <thead>\n",
       "    <tr style=\"text-align: right;\">\n",
       "      <th></th>\n",
       "      <th>name</th>\n",
       "      <th>phone</th>\n",
       "      <th>note</th>\n",
       "      <th>inout</th>\n",
       "      <th>cat</th>\n",
       "      <th>imgUrl</th>\n",
       "      <th>lat</th>\n",
       "      <th>lng</th>\n",
       "    </tr>\n",
       "  </thead>\n",
       "  <tbody>\n",
       "    <tr>\n",
       "      <th>14</th>\n",
       "      <td>SIR M VISVESVARAYA/VIS</td>\n",
       "      <td>NaN</td>\n",
       "      <td>CIVIL/EE</td>\n",
       "      <td>in</td>\n",
       "      <td>block</td>\n",
       "      <td>https://firebasestorage.googleapis.com/v0/b/ac...</td>\n",
       "      <td>13.182469</td>\n",
       "      <td>74.933588</td>\n",
       "    </tr>\n",
       "  </tbody>\n",
       "</table>\n",
       "</div>"
      ],
      "text/plain": [
       "                      name  phone      note inout    cat  \\\n",
       "14  SIR M VISVESVARAYA/VIS    NaN  CIVIL/EE    in  block   \n",
       "\n",
       "                                               imgUrl        lat        lng  \n",
       "14  https://firebasestorage.googleapis.com/v0/b/ac...  13.182469  74.933588  "
      ]
     },
     "execution_count": 9,
     "metadata": {},
     "output_type": "execute_result"
    }
   ],
   "source": [
    "df[df.isna().any(axis=1)]"
   ]
  },
  {
   "cell_type": "code",
   "execution_count": 10,
   "metadata": {},
   "outputs": [],
   "source": [
    "df.phone.fillna(0,inplace=True)\n",
    "df.loc[14,\"inout\"]=\"in\""
   ]
  },
  {
   "cell_type": "code",
   "execution_count": 11,
   "metadata": {},
   "outputs": [],
   "source": [
    "df=df.replace({'NA':np.NaN})"
   ]
  },
  {
   "cell_type": "code",
   "execution_count": 12,
   "metadata": {},
   "outputs": [
    {
     "data": {
      "text/plain": [
       "name      0\n",
       "phone     0\n",
       "note      0\n",
       "inout     8\n",
       "cat       0\n",
       "imgUrl    0\n",
       "lat       0\n",
       "lng       0\n",
       "dtype: int64"
      ]
     },
     "execution_count": 12,
     "metadata": {},
     "output_type": "execute_result"
    }
   ],
   "source": [
    "df.isna().sum()"
   ]
  },
  {
   "cell_type": "code",
   "execution_count": 13,
   "metadata": {},
   "outputs": [
    {
     "data": {
      "text/html": [
       "<div>\n",
       "<style scoped>\n",
       "    .dataframe tbody tr th:only-of-type {\n",
       "        vertical-align: middle;\n",
       "    }\n",
       "\n",
       "    .dataframe tbody tr th {\n",
       "        vertical-align: top;\n",
       "    }\n",
       "\n",
       "    .dataframe thead th {\n",
       "        text-align: right;\n",
       "    }\n",
       "</style>\n",
       "<table border=\"1\" class=\"dataframe\">\n",
       "  <thead>\n",
       "    <tr style=\"text-align: right;\">\n",
       "      <th></th>\n",
       "      <th>name</th>\n",
       "      <th>phone</th>\n",
       "      <th>note</th>\n",
       "      <th>inout</th>\n",
       "      <th>cat</th>\n",
       "      <th>imgUrl</th>\n",
       "      <th>lat</th>\n",
       "      <th>lng</th>\n",
       "    </tr>\n",
       "  </thead>\n",
       "  <tbody>\n",
       "    <tr>\n",
       "      <th>15</th>\n",
       "      <td>S RAMANUJAN/RAM</td>\n",
       "      <td>0.000000e+00</td>\n",
       "      <td>MECH/EC</td>\n",
       "      <td>NaN</td>\n",
       "      <td>block</td>\n",
       "      <td>https://firebasestorage.googleapis.com/v0/b/ac...</td>\n",
       "      <td>13.183011</td>\n",
       "      <td>74.933943</td>\n",
       "    </tr>\n",
       "    <tr>\n",
       "      <th>19</th>\n",
       "      <td>Sowparnika</td>\n",
       "      <td>0.000000e+00</td>\n",
       "      <td></td>\n",
       "      <td>NaN</td>\n",
       "      <td>hall</td>\n",
       "      <td>https://firebasestorage.googleapis.com/v0/b/ac...</td>\n",
       "      <td>13.183000</td>\n",
       "      <td>74.934142</td>\n",
       "    </tr>\n",
       "    <tr>\n",
       "      <th>23</th>\n",
       "      <td>Central library</td>\n",
       "      <td>0.000000e+00</td>\n",
       "      <td>1st floor, RAM</td>\n",
       "      <td>NaN</td>\n",
       "      <td>library</td>\n",
       "      <td>https://firebasestorage.googleapis.com/v0/b/ac...</td>\n",
       "      <td>13.183000</td>\n",
       "      <td>74.934142</td>\n",
       "    </tr>\n",
       "    <tr>\n",
       "      <th>61</th>\n",
       "      <td>Shabari store</td>\n",
       "      <td>0.000000e+00</td>\n",
       "      <td></td>\n",
       "      <td>NaN</td>\n",
       "      <td>shop</td>\n",
       "      <td></td>\n",
       "      <td>13.183196</td>\n",
       "      <td>74.936576</td>\n",
       "    </tr>\n",
       "    <tr>\n",
       "      <th>69</th>\n",
       "      <td>Malasa Footware</td>\n",
       "      <td>9.740537e+09</td>\n",
       "      <td></td>\n",
       "      <td>NaN</td>\n",
       "      <td>shop</td>\n",
       "      <td>https://firebasestorage.googleapis.com/v0/b/ac...</td>\n",
       "      <td>13.184943</td>\n",
       "      <td>74.936107</td>\n",
       "    </tr>\n",
       "    <tr>\n",
       "      <th>74</th>\n",
       "      <td>Kamath Store</td>\n",
       "      <td>9.686967e+09</td>\n",
       "      <td></td>\n",
       "      <td>NaN</td>\n",
       "      <td>shop</td>\n",
       "      <td>https://firebasestorage.googleapis.com/v0/b/ac...</td>\n",
       "      <td>13.185852</td>\n",
       "      <td>74.939169</td>\n",
       "    </tr>\n",
       "    <tr>\n",
       "      <th>80</th>\n",
       "      <td>Kateeleshwari fruits</td>\n",
       "      <td>8.722950e+09</td>\n",
       "      <td></td>\n",
       "      <td>NaN</td>\n",
       "      <td>shop</td>\n",
       "      <td>https://firebasestorage.googleapis.com/v0/b/ac...</td>\n",
       "      <td>13.185410</td>\n",
       "      <td>74.937967</td>\n",
       "    </tr>\n",
       "    <tr>\n",
       "      <th>84</th>\n",
       "      <td>Iyengar bakery</td>\n",
       "      <td>0.000000e+00</td>\n",
       "      <td></td>\n",
       "      <td>NaN</td>\n",
       "      <td>shop</td>\n",
       "      <td>https://firebasestorage.googleapis.com/v0/b/ac...</td>\n",
       "      <td>13.184544</td>\n",
       "      <td>74.936238</td>\n",
       "    </tr>\n",
       "  </tbody>\n",
       "</table>\n",
       "</div>"
      ],
      "text/plain": [
       "                    name         phone            note inout      cat  \\\n",
       "15       S RAMANUJAN/RAM  0.000000e+00         MECH/EC   NaN    block   \n",
       "19            Sowparnika  0.000000e+00                   NaN     hall   \n",
       "23       Central library  0.000000e+00  1st floor, RAM   NaN  library   \n",
       "61         Shabari store  0.000000e+00                   NaN     shop   \n",
       "69       Malasa Footware  9.740537e+09                   NaN     shop   \n",
       "74          Kamath Store  9.686967e+09                   NaN     shop   \n",
       "80  Kateeleshwari fruits  8.722950e+09                   NaN     shop   \n",
       "84        Iyengar bakery  0.000000e+00                   NaN     shop   \n",
       "\n",
       "                                               imgUrl        lat        lng  \n",
       "15  https://firebasestorage.googleapis.com/v0/b/ac...  13.183011  74.933943  \n",
       "19  https://firebasestorage.googleapis.com/v0/b/ac...  13.183000  74.934142  \n",
       "23  https://firebasestorage.googleapis.com/v0/b/ac...  13.183000  74.934142  \n",
       "61                                                     13.183196  74.936576  \n",
       "69  https://firebasestorage.googleapis.com/v0/b/ac...  13.184943  74.936107  \n",
       "74  https://firebasestorage.googleapis.com/v0/b/ac...  13.185852  74.939169  \n",
       "80  https://firebasestorage.googleapis.com/v0/b/ac...  13.185410  74.937967  \n",
       "84  https://firebasestorage.googleapis.com/v0/b/ac...  13.184544  74.936238  "
      ]
     },
     "execution_count": 13,
     "metadata": {},
     "output_type": "execute_result"
    }
   ],
   "source": [
    "df[df.isna().any(axis=1)]"
   ]
  },
  {
   "cell_type": "code",
   "execution_count": 14,
   "metadata": {},
   "outputs": [],
   "source": [
    "df['phone'] = df['phone'].astype(int)"
   ]
  },
  {
   "cell_type": "code",
   "execution_count": 15,
   "metadata": {},
   "outputs": [],
   "source": [
    "import pathlib\n",
    "base_path = pathlib.Path(\".\")\n",
    "(base_path/\"output\").mkdir(exist_ok=True)\n",
    "(base_path/\"output\"/\"images\").mkdir(exist_ok=True)"
   ]
  },
  {
   "cell_type": "code",
   "execution_count": 24,
   "metadata": {},
   "outputs": [],
   "source": [
    "jDiesel :list= json.loads(df.to_json(orient = \"records\",indent=4))"
   ]
  },
  {
   "cell_type": "code",
   "execution_count": 25,
   "metadata": {},
   "outputs": [],
   "source": [
    "download_path = base_path/\"output\"/\"images\"\n",
    "for path in download_path.glob(\"*\"):\n",
    "    path.unlink()\n",
    "\n",
    "import requests\n",
    "for i,value in enumerate(jDiesel):\n",
    "    if(value[\"imgUrl\"]):\n",
    "        name = f\"{value['name'].split('/')[-1].strip()}.jpg\"\n",
    "        with open(download_path/name,\"wb\") as fh:\n",
    "            fh.write(requests.get(value[\"imgUrl\"]).content)\n",
    "            jDiesel[i][\"imgUrl\"] = name"
   ]
  },
  {
   "cell_type": "code",
   "execution_count": null,
   "metadata": {},
   "outputs": [],
   "source": [
    "with open(\"./output/places.json\",\"w\") as fh:\n",
    "    json.dump(jDiesel,fh)"
   ]
  }
 ],
 "metadata": {
  "kernelspec": {
   "display_name": "Python 3",
   "language": "python",
   "name": "python3"
  },
  "language_info": {
   "codemirror_mode": {
    "name": "ipython",
    "version": 3
   },
   "file_extension": ".py",
   "mimetype": "text/x-python",
   "name": "python",
   "nbconvert_exporter": "python",
   "pygments_lexer": "ipython3",
   "version": "3.11.4"
  },
  "orig_nbformat": 4
 },
 "nbformat": 4,
 "nbformat_minor": 2
}
