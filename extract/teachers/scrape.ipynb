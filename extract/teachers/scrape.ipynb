{
 "cells": [
  {
   "cell_type": "code",
   "execution_count": 1,
   "metadata": {},
   "outputs": [],
   "source": [
    "import requests\n",
    "from urllib.parse import urljoin\n",
    "from bs4 import BeautifulSoup\n",
    "import json"
   ]
  },
  {
   "cell_type": "code",
   "execution_count": 2,
   "metadata": {},
   "outputs": [],
   "source": [
    "base_url = \"https://nmamit.nitte.edu.in/\""
   ]
  },
  {
   "cell_type": "code",
   "execution_count": null,
   "metadata": {},
   "outputs": [],
   "source": [
    "page = requests.get(base_url)\n",
    "soup = BeautifulSoup(page.content)"
   ]
  },
  {
   "cell_type": "code",
   "execution_count": null,
   "metadata": {},
   "outputs": [],
   "source": [
    "department_list = soup.select_one(\"#Undergraduate\").find_all(\"li\")"
   ]
  },
  {
   "cell_type": "code",
   "execution_count": null,
   "metadata": {},
   "outputs": [],
   "source": [
    "final_data = []\n",
    "\n",
    "for department in department_list:\n",
    "    url =urljoin(base_url, department.find(\"a\").attrs[\"href\"])\n",
    "    department_page = requests.get(url)\n",
    "    department_soup = BeautifulSoup(department_page.content)\n",
    "    for card in department_soup.select(\".leadership-box.shadow\"):\n",
    "        final_data.append({\n",
    "            \"branch\":department.text.strip(),\n",
    "            \"imgUrl\":card.find(\"img\").attrs[\"src\"].strip(),\n",
    "            \"name\":card.find(\"h3\").text.strip()\n",
    "        })"
   ]
  },
  {
   "cell_type": "code",
   "execution_count": null,
   "metadata": {},
   "outputs": [],
   "source": [
    "with open(\"./teachers.json\",\"r\") as fh:\n",
    "    old_data = json.loads(fh.read())\n",
    "\n",
    "len(final_data),len(old_data)"
   ]
  },
  {
   "cell_type": "code",
   "execution_count": null,
   "metadata": {},
   "outputs": [
    {
     "name": "stdout",
     "output_type": "stream",
     "text": [
      "ankitha nayak      ankitha a nayak\n",
      "padmavathi      padmavathi k\n",
      "anusha r      anusha r sharath\n",
      "venkatesh murthy      p. venkatesh murthy\n",
      "uday kumar shenoy      udaya kumar k shenoy\n"
     ]
    }
   ],
   "source": [
    "for faculty in old_data:\n",
    "    for j in final_data:\n",
    "        if(faculty[\"imgUrl\"]==j[\"imgUrl\"]):\n",
    "            if(faculty[\"name\"].lower()!=j[\"name\"].lower().split(\".\",1)[1].strip()):\n",
    "                print(faculty[\"name\"].lower(),\"   \",j[\"name\"].lower().split(\".\",1)[1])\n",
    "            break"
   ]
  },
  {
   "cell_type": "code",
   "execution_count": null,
   "metadata": {},
   "outputs": [],
   "source": [
    "for faculty in old_data:\n",
    "    for i,j in enumerate(final_data):\n",
    "        if(faculty[\"imgUrl\"]==j[\"imgUrl\"]):\n",
    "            j[\"block\"]=faculty[\"block\"]\n",
    "            j[\"floor\"]=faculty[\"floor\"]\n",
    "            break"
   ]
  },
  {
   "cell_type": "code",
   "execution_count": null,
   "metadata": {},
   "outputs": [],
   "source": [
    "with open(\"./output/teachers.json\",\"w\") as fh:\n",
    "    json.dump(final_data,fh,indent=4)"
   ]
  }
 ],
 "metadata": {
  "kernelspec": {
   "display_name": "Python 3",
   "language": "python",
   "name": "python3"
  },
  "language_info": {
   "codemirror_mode": {
    "name": "ipython",
    "version": 3
   },
   "file_extension": ".py",
   "mimetype": "text/x-python",
   "name": "python",
   "nbconvert_exporter": "python",
   "pygments_lexer": "ipython3",
   "version": "3.11.4"
  },
  "orig_nbformat": 4
 },
 "nbformat": 4,
 "nbformat_minor": 2
}
