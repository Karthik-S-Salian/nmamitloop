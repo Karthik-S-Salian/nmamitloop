{
 "cells": [
  {
   "cell_type": "code",
   "execution_count": 1,
   "metadata": {},
   "outputs": [],
   "source": [
    "import json\n",
    "\n",
    "with open(\"./places_raw.json\",\"r\") as fh:\n",
    "    data:list[dict] = json.loads(fh.read())"
   ]
  },
  {
   "cell_type": "code",
   "execution_count": 2,
   "metadata": {},
   "outputs": [],
   "source": [
    "for i,place in enumerate(data):\n",
    "    place[\"lat\"] = place[\"geometry\"][\"location\"][\"lat\"]\n",
    "    place[\"lng\"] = place[\"geometry\"][\"location\"][\"lng\"]\n",
    "    place.pop(\"geometry\")\n"
   ]
  },
  {
   "cell_type": "code",
   "execution_count": 3,
   "metadata": {},
   "outputs": [],
   "source": [
    "import pandas as pd\n",
    "import numpy as np"
   ]
  },
  {
   "cell_type": "code",
   "execution_count": 4,
   "metadata": {},
   "outputs": [
    {
     "data": {
      "text/html": [
       "<div>\n",
       "<style scoped>\n",
       "    .dataframe tbody tr th:only-of-type {\n",
       "        vertical-align: middle;\n",
       "    }\n",
       "\n",
       "    .dataframe tbody tr th {\n",
       "        vertical-align: top;\n",
       "    }\n",
       "\n",
       "    .dataframe thead th {\n",
       "        text-align: right;\n",
       "    }\n",
       "</style>\n",
       "<table border=\"1\" class=\"dataframe\">\n",
       "  <thead>\n",
       "    <tr style=\"text-align: right;\">\n",
       "      <th></th>\n",
       "      <th>name</th>\n",
       "      <th>phone</th>\n",
       "      <th>note</th>\n",
       "      <th>inout</th>\n",
       "      <th>cat</th>\n",
       "      <th>imgUrl</th>\n",
       "      <th>lat</th>\n",
       "      <th>lng</th>\n",
       "      <th>rating</th>\n",
       "    </tr>\n",
       "  </thead>\n",
       "  <tbody>\n",
       "    <tr>\n",
       "      <th>69</th>\n",
       "      <td>Malasa Footware</td>\n",
       "      <td>9.740537e+09</td>\n",
       "      <td></td>\n",
       "      <td>NA</td>\n",
       "      <td>shop</td>\n",
       "      <td>https://firebasestorage.googleapis.com/v0/b/ac...</td>\n",
       "      <td>13.184943</td>\n",
       "      <td>74.936107</td>\n",
       "      <td>NaN</td>\n",
       "    </tr>\n",
       "    <tr>\n",
       "      <th>86</th>\n",
       "      <td>Nitte Laxmi Fuels</td>\n",
       "      <td>0.000000e+00</td>\n",
       "      <td></td>\n",
       "      <td>NA</td>\n",
       "      <td>vehicle</td>\n",
       "      <td></td>\n",
       "      <td>13.185342</td>\n",
       "      <td>74.939403</td>\n",
       "      <td>NaN</td>\n",
       "    </tr>\n",
       "    <tr>\n",
       "      <th>41</th>\n",
       "      <td>MCA Computer Lab-1</td>\n",
       "      <td>0.000000e+00</td>\n",
       "      <td></td>\n",
       "      <td>in</td>\n",
       "      <td>lab</td>\n",
       "      <td>https://firebasestorage.googleapis.com/v0/b/ac...</td>\n",
       "      <td>13.183323</td>\n",
       "      <td>74.933607</td>\n",
       "      <td>NaN</td>\n",
       "    </tr>\n",
       "    <tr>\n",
       "      <th>76</th>\n",
       "      <td>Radha Krishna hotel</td>\n",
       "      <td>9.845978e+09</td>\n",
       "      <td></td>\n",
       "      <td>out</td>\n",
       "      <td>food</td>\n",
       "      <td>https://res.cloudinary.com/do1jebbgp/image/upl...</td>\n",
       "      <td>13.185444</td>\n",
       "      <td>74.938474</td>\n",
       "      <td>NaN</td>\n",
       "    </tr>\n",
       "    <tr>\n",
       "      <th>33</th>\n",
       "      <td>Microprocessor/HDL Lab</td>\n",
       "      <td>0.000000e+00</td>\n",
       "      <td>3</td>\n",
       "      <td>in</td>\n",
       "      <td>lab</td>\n",
       "      <td>https://firebasestorage.googleapis.com/v0/b/ac...</td>\n",
       "      <td>13.183099</td>\n",
       "      <td>74.934251</td>\n",
       "      <td>NaN</td>\n",
       "    </tr>\n",
       "  </tbody>\n",
       "</table>\n",
       "</div>"
      ],
      "text/plain": [
       "                      name         phone note inout      cat  \\\n",
       "69         Malasa Footware  9.740537e+09         NA     shop   \n",
       "86       Nitte Laxmi Fuels  0.000000e+00         NA  vehicle   \n",
       "41      MCA Computer Lab-1  0.000000e+00         in      lab   \n",
       "76     Radha Krishna hotel  9.845978e+09        out     food   \n",
       "33  Microprocessor/HDL Lab  0.000000e+00    3    in      lab   \n",
       "\n",
       "                                               imgUrl        lat        lng  \\\n",
       "69  https://firebasestorage.googleapis.com/v0/b/ac...  13.184943  74.936107   \n",
       "86                                                     13.185342  74.939403   \n",
       "41  https://firebasestorage.googleapis.com/v0/b/ac...  13.183323  74.933607   \n",
       "76  https://res.cloudinary.com/do1jebbgp/image/upl...  13.185444  74.938474   \n",
       "33  https://firebasestorage.googleapis.com/v0/b/ac...  13.183099  74.934251   \n",
       "\n",
       "    rating  \n",
       "69     NaN  \n",
       "86     NaN  \n",
       "41     NaN  \n",
       "76     NaN  \n",
       "33     NaN  "
      ]
     },
     "execution_count": 4,
     "metadata": {},
     "output_type": "execute_result"
    }
   ],
   "source": [
    "df = pd.DataFrame(data)\n",
    "df.sample(5)\n"
   ]
  },
  {
   "cell_type": "code",
   "execution_count": 5,
   "metadata": {},
   "outputs": [],
   "source": [
    "df.drop(\"rating\",axis = 1,inplace=True)"
   ]
  },
  {
   "cell_type": "code",
   "execution_count": 6,
   "metadata": {},
   "outputs": [
    {
     "data": {
      "text/html": [
       "<div>\n",
       "<style scoped>\n",
       "    .dataframe tbody tr th:only-of-type {\n",
       "        vertical-align: middle;\n",
       "    }\n",
       "\n",
       "    .dataframe tbody tr th {\n",
       "        vertical-align: top;\n",
       "    }\n",
       "\n",
       "    .dataframe thead th {\n",
       "        text-align: right;\n",
       "    }\n",
       "</style>\n",
       "<table border=\"1\" class=\"dataframe\">\n",
       "  <thead>\n",
       "    <tr style=\"text-align: right;\">\n",
       "      <th></th>\n",
       "      <th>name</th>\n",
       "      <th>phone</th>\n",
       "      <th>note</th>\n",
       "      <th>inout</th>\n",
       "      <th>cat</th>\n",
       "      <th>imgUrl</th>\n",
       "      <th>lat</th>\n",
       "      <th>lng</th>\n",
       "    </tr>\n",
       "  </thead>\n",
       "  <tbody>\n",
       "    <tr>\n",
       "      <th>14</th>\n",
       "      <td>SIR M VISVESVARAYA/VIS</td>\n",
       "      <td>NaN</td>\n",
       "      <td>CIVIL/EE</td>\n",
       "      <td>NA</td>\n",
       "      <td>block</td>\n",
       "      <td>https://firebasestorage.googleapis.com/v0/b/ac...</td>\n",
       "      <td>13.182469</td>\n",
       "      <td>74.933588</td>\n",
       "    </tr>\n",
       "  </tbody>\n",
       "</table>\n",
       "</div>"
      ],
      "text/plain": [
       "                      name  phone      note inout    cat  \\\n",
       "14  SIR M VISVESVARAYA/VIS    NaN  CIVIL/EE    NA  block   \n",
       "\n",
       "                                               imgUrl        lat        lng  \n",
       "14  https://firebasestorage.googleapis.com/v0/b/ac...  13.182469  74.933588  "
      ]
     },
     "execution_count": 6,
     "metadata": {},
     "output_type": "execute_result"
    }
   ],
   "source": [
    "df[df.isna().any(axis=1)]"
   ]
  },
  {
   "cell_type": "code",
   "execution_count": 7,
   "metadata": {},
   "outputs": [],
   "source": [
    "df.phone.fillna(0,inplace=True)\n",
    "df.loc[14,\"inout\"]=\"in\""
   ]
  },
  {
   "cell_type": "code",
   "execution_count": 8,
   "metadata": {},
   "outputs": [],
   "source": [
    "df=df.replace({'NA':np.NaN})"
   ]
  },
  {
   "cell_type": "code",
   "execution_count": 9,
   "metadata": {},
   "outputs": [
    {
     "data": {
      "text/plain": [
       "name       0\n",
       "phone      0\n",
       "note       0\n",
       "inout     38\n",
       "cat        0\n",
       "imgUrl     0\n",
       "lat        0\n",
       "lng        0\n",
       "dtype: int64"
      ]
     },
     "execution_count": 9,
     "metadata": {},
     "output_type": "execute_result"
    }
   ],
   "source": [
    "df.isna().sum()"
   ]
  },
  {
   "cell_type": "code",
   "execution_count": 13,
   "metadata": {},
   "outputs": [
    {
     "data": {
      "text/html": [
       "<div>\n",
       "<style scoped>\n",
       "    .dataframe tbody tr th:only-of-type {\n",
       "        vertical-align: middle;\n",
       "    }\n",
       "\n",
       "    .dataframe tbody tr th {\n",
       "        vertical-align: top;\n",
       "    }\n",
       "\n",
       "    .dataframe thead th {\n",
       "        text-align: right;\n",
       "    }\n",
       "</style>\n",
       "<table border=\"1\" class=\"dataframe\">\n",
       "  <thead>\n",
       "    <tr style=\"text-align: right;\">\n",
       "      <th></th>\n",
       "      <th>name</th>\n",
       "      <th>phone</th>\n",
       "      <th>note</th>\n",
       "      <th>inout</th>\n",
       "      <th>cat</th>\n",
       "      <th>imgUrl</th>\n",
       "      <th>lat</th>\n",
       "      <th>lng</th>\n",
       "    </tr>\n",
       "  </thead>\n",
       "  <tbody>\n",
       "    <tr>\n",
       "      <th>15</th>\n",
       "      <td>S RAMANUJAN/RAM</td>\n",
       "      <td>0.000000e+00</td>\n",
       "      <td>MECH/EC</td>\n",
       "      <td>NaN</td>\n",
       "      <td>block</td>\n",
       "      <td>https://firebasestorage.googleapis.com/v0/b/ac...</td>\n",
       "      <td>13.183011</td>\n",
       "      <td>74.933943</td>\n",
       "    </tr>\n",
       "    <tr>\n",
       "      <th>19</th>\n",
       "      <td>Sowparnika</td>\n",
       "      <td>0.000000e+00</td>\n",
       "      <td></td>\n",
       "      <td>NaN</td>\n",
       "      <td>hall</td>\n",
       "      <td>https://firebasestorage.googleapis.com/v0/b/ac...</td>\n",
       "      <td>13.183000</td>\n",
       "      <td>74.934142</td>\n",
       "    </tr>\n",
       "    <tr>\n",
       "      <th>23</th>\n",
       "      <td>Central library</td>\n",
       "      <td>0.000000e+00</td>\n",
       "      <td>1st floor, RAM</td>\n",
       "      <td>NaN</td>\n",
       "      <td>library</td>\n",
       "      <td>https://firebasestorage.googleapis.com/v0/b/ac...</td>\n",
       "      <td>13.183000</td>\n",
       "      <td>74.934142</td>\n",
       "    </tr>\n",
       "    <tr>\n",
       "      <th>61</th>\n",
       "      <td>Shabari store</td>\n",
       "      <td>0.000000e+00</td>\n",
       "      <td></td>\n",
       "      <td>NaN</td>\n",
       "      <td>shop</td>\n",
       "      <td></td>\n",
       "      <td>13.183196</td>\n",
       "      <td>74.936576</td>\n",
       "    </tr>\n",
       "    <tr>\n",
       "      <th>69</th>\n",
       "      <td>Malasa Footware</td>\n",
       "      <td>9.740537e+09</td>\n",
       "      <td></td>\n",
       "      <td>NaN</td>\n",
       "      <td>shop</td>\n",
       "      <td>https://firebasestorage.googleapis.com/v0/b/ac...</td>\n",
       "      <td>13.184943</td>\n",
       "      <td>74.936107</td>\n",
       "    </tr>\n",
       "    <tr>\n",
       "      <th>74</th>\n",
       "      <td>Kamath Store</td>\n",
       "      <td>9.686967e+09</td>\n",
       "      <td></td>\n",
       "      <td>NaN</td>\n",
       "      <td>shop</td>\n",
       "      <td>https://firebasestorage.googleapis.com/v0/b/ac...</td>\n",
       "      <td>13.185852</td>\n",
       "      <td>74.939169</td>\n",
       "    </tr>\n",
       "    <tr>\n",
       "      <th>80</th>\n",
       "      <td>Kateeleshwari fruits</td>\n",
       "      <td>8.722950e+09</td>\n",
       "      <td></td>\n",
       "      <td>NaN</td>\n",
       "      <td>shop</td>\n",
       "      <td>https://firebasestorage.googleapis.com/v0/b/ac...</td>\n",
       "      <td>13.185410</td>\n",
       "      <td>74.937967</td>\n",
       "    </tr>\n",
       "    <tr>\n",
       "      <th>84</th>\n",
       "      <td>Iyengar bakery</td>\n",
       "      <td>0.000000e+00</td>\n",
       "      <td></td>\n",
       "      <td>NaN</td>\n",
       "      <td>shop</td>\n",
       "      <td>https://firebasestorage.googleapis.com/v0/b/ac...</td>\n",
       "      <td>13.184544</td>\n",
       "      <td>74.936238</td>\n",
       "    </tr>\n",
       "  </tbody>\n",
       "</table>\n",
       "</div>"
      ],
      "text/plain": [
       "                    name         phone            note inout      cat  \\\n",
       "15       S RAMANUJAN/RAM  0.000000e+00         MECH/EC   NaN    block   \n",
       "19            Sowparnika  0.000000e+00                   NaN     hall   \n",
       "23       Central library  0.000000e+00  1st floor, RAM   NaN  library   \n",
       "61         Shabari store  0.000000e+00                   NaN     shop   \n",
       "69       Malasa Footware  9.740537e+09                   NaN     shop   \n",
       "74          Kamath Store  9.686967e+09                   NaN     shop   \n",
       "80  Kateeleshwari fruits  8.722950e+09                   NaN     shop   \n",
       "84        Iyengar bakery  0.000000e+00                   NaN     shop   \n",
       "\n",
       "                                               imgUrl        lat        lng  \n",
       "15  https://firebasestorage.googleapis.com/v0/b/ac...  13.183011  74.933943  \n",
       "19  https://firebasestorage.googleapis.com/v0/b/ac...  13.183000  74.934142  \n",
       "23  https://firebasestorage.googleapis.com/v0/b/ac...  13.183000  74.934142  \n",
       "61                                                     13.183196  74.936576  \n",
       "69  https://firebasestorage.googleapis.com/v0/b/ac...  13.184943  74.936107  \n",
       "74  https://firebasestorage.googleapis.com/v0/b/ac...  13.185852  74.939169  \n",
       "80  https://firebasestorage.googleapis.com/v0/b/ac...  13.185410  74.937967  \n",
       "84  https://firebasestorage.googleapis.com/v0/b/ac...  13.184544  74.936238  "
      ]
     },
     "execution_count": 13,
     "metadata": {},
     "output_type": "execute_result"
    }
   ],
   "source": [
    "df[df.isna().any(axis=1)]"
   ]
  },
  {
   "cell_type": "code",
   "execution_count": 14,
   "metadata": {},
   "outputs": [],
   "source": [
    "df['phone'] = df['phone'].astype(int)"
   ]
  },
  {
   "cell_type": "code",
   "execution_count": 15,
   "metadata": {},
   "outputs": [],
   "source": [
    "import pathlib\n",
    "base_path = pathlib.Path(\".\")\n",
    "(base_path/\"output\").mkdir(exist_ok=True)\n",
    "(base_path/\"output\"/\"images\").mkdir(exist_ok=True)"
   ]
  },
  {
   "cell_type": "code",
   "execution_count": 24,
   "metadata": {},
   "outputs": [],
   "source": [
    "jDiesel :list= json.loads(df.to_json(orient = \"records\",indent=4))"
   ]
  },
  {
   "cell_type": "code",
   "execution_count": 25,
   "metadata": {},
   "outputs": [],
   "source": [
    "download_path = base_path/\"output\"/\"images\"\n",
    "for path in download_path.glob(\"*\"):\n",
    "    path.unlink()\n",
    "\n",
    "import requests\n",
    "for i,value in enumerate(jDiesel):\n",
    "    if(value[\"imgUrl\"]):\n",
    "        name = f\"{value['name'].split('/')[-1].strip()}.jpg\"\n",
    "        with open(download_path/name,\"wb\") as fh:\n",
    "            fh.write(requests.get(value[\"imgUrl\"]).content)\n",
    "            jDiesel[i][\"imgUrl\"] = name"
   ]
  },
  {
   "cell_type": "code",
   "execution_count": null,
   "metadata": {},
   "outputs": [],
   "source": [
    "with open(\"./output/places.json\",\"w\") as fh:\n",
    "    json.dump(jDiesel,fh)"
   ]
  },
  {
   "cell_type": "code",
   "execution_count": 10,
   "metadata": {},
   "outputs": [],
   "source": [
    "import json"
   ]
  },
  {
   "cell_type": "code",
   "execution_count": 11,
   "metadata": {},
   "outputs": [],
   "source": [
    "with open(\"places.json\",\"r\") as fh:\n",
    "    data = json.loads(fh.read())"
   ]
  },
  {
   "cell_type": "code",
   "execution_count": 12,
   "metadata": {},
   "outputs": [
    {
     "name": "stdout",
     "output_type": "stream",
     "text": [
      "Hotel Shetty's\n",
      "Sanmathi Cafe\n",
      "Shabari\n",
      "Harshitha\n",
      "CV Raman/CVR\n",
      "Xerox 1\n",
      "Xerox 2\n",
      "Ground Zero cyber\n",
      "Sanmathi garden\n",
      "Clinic\n",
      "BC Alva Memorial Indoor Stadium\n",
      "NET Gents Main Hostel- Block 3\n",
      "NET PG Girls Hostel\n",
      "Shabari store\n",
      "Hotel Sri Durga Prasad\n",
      "Pavi Digital Studio\n",
      "Bus stop\n",
      "Auto stand\n",
      "Nitte Laxmi Fuels\n",
      "Om Sai Ram Auto Works\n",
      "Nitte Co-op store\n",
      "Nitte Co-op store\n"
     ]
    }
   ],
   "source": [
    "no_photo_places = []\n",
    "for place in data:\n",
    "    if(not place[\"imgUrl\"]):\n",
    "       no_photo_places.append(place[\"name\"])\n",
    "       print(place[\"name\"])"
   ]
  },
  {
   "cell_type": "code",
   "execution_count": 26,
   "metadata": {},
   "outputs": [],
   "source": [
    "with open(\"places_null_cleared.json\",\"r\") as fh:\n",
    "    data = json.loads(fh.read())"
   ]
  },
  {
   "cell_type": "code",
   "execution_count": 27,
   "metadata": {},
   "outputs": [],
   "source": [
    "for place in data:\n",
    "    place.pop(\"imgUrl\")\n",
    "    place[\"image\"] = place[\"name\"].split(\"/\")[-1].strip()"
   ]
  },
  {
   "cell_type": "code",
   "execution_count": 29,
   "metadata": {},
   "outputs": [],
   "source": [
    "with open(\"places.json\",\"w\") as fh:\n",
    "    json.dump(data,fh,indent=4)"
   ]
  },
  {
   "cell_type": "code",
   "execution_count": null,
   "metadata": {},
   "outputs": [],
   "source": []
  }
 ],
 "metadata": {
  "kernelspec": {
   "display_name": "Python 3",
   "language": "python",
   "name": "python3"
  },
  "language_info": {
   "codemirror_mode": {
    "name": "ipython",
    "version": 3
   },
   "file_extension": ".py",
   "mimetype": "text/x-python",
   "name": "python",
   "nbconvert_exporter": "python",
   "pygments_lexer": "ipython3",
   "version": "3.11.4"
  },
  "orig_nbformat": 4
 },
 "nbformat": 4,
 "nbformat_minor": 2
}
